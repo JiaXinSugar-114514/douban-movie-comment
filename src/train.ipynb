{
 "cells": [
  {
   "cell_type": "markdown",
   "metadata": {},
   "source": [
    "## Train"
   ]
  },
  {
   "cell_type": "markdown",
   "metadata": {},
   "source": [
    "# 环境准备及数据预处理 \n",
    "## 导入必要的包和库"
   ]
  },
  {
   "cell_type": "code",
   "execution_count": 1,
   "metadata": {},
   "outputs": [],
   "source": [
    "import pandas as pd\n",
    "import torch\n",
    "import torch.nn as nn\n",
    "import torch.optim as optim\n",
    "import numpy as np\n",
    "import matplotlib.pyplot as plt\n",
    "import random\n",
    "import jieba\n",
    "import re\n",
    "from gensim.models import Word2Vec\n",
    "from gensim.test.utils import common_texts, get_tmpfile\n",
    "import warnings"
   ]
  },
  {
   "cell_type": "markdown",
   "metadata": {},
   "source": [
    "## 读取数据\n",
    "* 这里，我们首先需要读取.csv文件中的数据，利用pd.read_csv方法读取"
   ]
  },
  {
   "cell_type": "code",
   "execution_count": 91,
   "metadata": {},
   "outputs": [],
   "source": [
    "raw_dataset = pd.read_csv('../data/preset/minibatch.csv')#读取原始数据"
   ]
  },
  {
   "cell_type": "markdown",
   "metadata": {},
   "source": [
    "* 我们需要对读取到的数据进行预先清洗，因为从网上爬取的数据会存在空数据\n",
    "* 所以先要利用dropna方法除去空缺数据，并用reset_index方法重新设置索引"
   ]
  },
  {
   "cell_type": "code",
   "execution_count": 92,
   "metadata": {},
   "outputs": [],
   "source": [
    "dataset = raw_dataset.dropna(axis=0).reset_index()#清洗数据，去除空数据\n",
    "val_size = 0.25\n",
    "idx = list(range(len(dataset)))\n",
    "random.shuffle(idx)#打乱样本\n",
    "dataset_train_idx, dataset_val_idx = idx[int(val_size * len(idx)):], idx[:int(val_size * len(idx))]#划分训练集和验证集\n",
    "dataset_train, dataset_val = dataset.iloc[dataset_train_idx].reset_index(), dataset.iloc[dataset_val_idx].reset_index()#把序号重新标注"
   ]
  },
  {
   "cell_type": "markdown",
   "metadata": {},
   "source": [
    "* 接着利用random.shuffle方法来打乱样本，并划分训练集和验证集。val_size是验证集所占比例\n",
    "\n",
    " **下面展示清洗后得到的验证集**"
   ]
  },
  {
   "cell_type": "code",
   "execution_count": 93,
   "metadata": {
    "scrolled": true
   },
   "outputs": [
    {
     "data": {
      "text/html": [
       "<div>\n",
       "<style scoped>\n",
       "    .dataframe tbody tr th:only-of-type {\n",
       "        vertical-align: middle;\n",
       "    }\n",
       "\n",
       "    .dataframe tbody tr th {\n",
       "        vertical-align: top;\n",
       "    }\n",
       "\n",
       "    .dataframe thead th {\n",
       "        text-align: right;\n",
       "    }\n",
       "</style>\n",
       "<table border=\"1\" class=\"dataframe\">\n",
       "  <thead>\n",
       "    <tr style=\"text-align: right;\">\n",
       "      <th></th>\n",
       "      <th>level_0</th>\n",
       "      <th>index</th>\n",
       "      <th>movie_id</th>\n",
       "      <th>user_id</th>\n",
       "      <th>rate</th>\n",
       "      <th>time</th>\n",
       "      <th>content</th>\n",
       "    </tr>\n",
       "  </thead>\n",
       "  <tbody>\n",
       "    <tr>\n",
       "      <th>0</th>\n",
       "      <td>17</td>\n",
       "      <td>17</td>\n",
       "      <td>26825482</td>\n",
       "      <td>✔</td>\n",
       "      <td>1.0</td>\n",
       "      <td>2022-03-30 22:50:10</td>\n",
       "      <td>不意外，过气灾难片路数。大概是全人类得新冠之后大脑缩小了一圈。✘/0</td>\n",
       "    </tr>\n",
       "    <tr>\n",
       "      <th>1</th>\n",
       "      <td>0</td>\n",
       "      <td>0</td>\n",
       "      <td>26825482</td>\n",
       "      <td>莫挨脑子</td>\n",
       "      <td>1.0</td>\n",
       "      <td>2022-03-25 20:24:25</td>\n",
       "      <td>看到影片开头 华谊兄弟几个字的时候 我就心里有数了……果然…..</td>\n",
       "    </tr>\n",
       "    <tr>\n",
       "      <th>2</th>\n",
       "      <td>9</td>\n",
       "      <td>9</td>\n",
       "      <td>26825482</td>\n",
       "      <td>亵渎电影</td>\n",
       "      <td>1.0</td>\n",
       "      <td>2022-03-30 17:04:17</td>\n",
       "      <td>编剧写这种东西，本意是在写一个粗制滥造的网大吧，不仅时时刻刻在侮辱观众的智商，还侮辱了外星智...</td>\n",
       "    </tr>\n",
       "    <tr>\n",
       "      <th>3</th>\n",
       "      <td>4</td>\n",
       "      <td>4</td>\n",
       "      <td>26825482</td>\n",
       "      <td>人民南路壹号</td>\n",
       "      <td>2.0</td>\n",
       "      <td>2022-02-13 12:22:24</td>\n",
       "      <td>加上最后一段的灾难特效算它勉强及格吧，在导演本人的作品里应当排在倒数的，很多逻辑漏洞和一言难...</td>\n",
       "    </tr>\n",
       "  </tbody>\n",
       "</table>\n",
       "</div>"
      ],
      "text/plain": [
       "   level_0  index  movie_id user_id  rate                 time  \\\n",
       "0       17     17  26825482       ✔   1.0  2022-03-30 22:50:10   \n",
       "1        0      0  26825482    莫挨脑子   1.0  2022-03-25 20:24:25   \n",
       "2        9      9  26825482    亵渎电影   1.0  2022-03-30 17:04:17   \n",
       "3        4      4  26825482  人民南路壹号   2.0  2022-02-13 12:22:24   \n",
       "\n",
       "                                             content  \n",
       "0                 不意外，过气灾难片路数。大概是全人类得新冠之后大脑缩小了一圈。✘/0  \n",
       "1                   看到影片开头 华谊兄弟几个字的时候 我就心里有数了……果然…..  \n",
       "2  编剧写这种东西，本意是在写一个粗制滥造的网大吧，不仅时时刻刻在侮辱观众的智商，还侮辱了外星智...  \n",
       "3  加上最后一段的灾难特效算它勉强及格吧，在导演本人的作品里应当排在倒数的，很多逻辑漏洞和一言难...  "
      ]
     },
     "execution_count": 93,
     "metadata": {},
     "output_type": "execute_result"
    }
   ],
   "source": [
    "dataset_val"
   ]
  },
  {
   "cell_type": "markdown",
   "metadata": {},
   "source": [
    "## 清洗数据\n",
    "* 因为很多影评中含有各种奇怪的标点符号和表情符号，在训练中这一部分我们不需要，所以我们要将这一部分清洗掉\n",
    "* 下面我们用re.sub正则表达式匹配来进行清洗，并用repalce替换掉字符串中的空格"
   ]
  },
  {
   "cell_type": "code",
   "execution_count": 94,
   "metadata": {},
   "outputs": [],
   "source": [
    "for i in range(len(dataset_train)):#去除掉所有除汉字外的其他字符，包括空格标点表情符号之类\n",
    "        dataset_train.loc[i,'content']=re.sub(r\"[^\\u4e00-\\u9fa5 ]+\", '', dataset_train['content'][i])\n",
    "        dataset_train.loc[i,'content']=dataset_train['content'][i].replace(' ','')\n",
    "for i in range(len(dataset_val)):\n",
    "        dataset_val.loc[i,'content']=re.sub(r\"[^\\u4e00-\\u9fa5 ]+\", '', dataset_val['content'][i])\n",
    "        dataset_val.loc[i,'content']=dataset_val['content'][i].replace(' ','')"
   ]
  },
  {
   "cell_type": "markdown",
   "metadata": {},
   "source": [
    " **下面展示清洗后得到的验证集**"
   ]
  },
  {
   "cell_type": "code",
   "execution_count": 95,
   "metadata": {
    "scrolled": false
   },
   "outputs": [
    {
     "data": {
      "text/html": [
       "<div>\n",
       "<style scoped>\n",
       "    .dataframe tbody tr th:only-of-type {\n",
       "        vertical-align: middle;\n",
       "    }\n",
       "\n",
       "    .dataframe tbody tr th {\n",
       "        vertical-align: top;\n",
       "    }\n",
       "\n",
       "    .dataframe thead th {\n",
       "        text-align: right;\n",
       "    }\n",
       "</style>\n",
       "<table border=\"1\" class=\"dataframe\">\n",
       "  <thead>\n",
       "    <tr style=\"text-align: right;\">\n",
       "      <th></th>\n",
       "      <th>level_0</th>\n",
       "      <th>index</th>\n",
       "      <th>movie_id</th>\n",
       "      <th>user_id</th>\n",
       "      <th>rate</th>\n",
       "      <th>time</th>\n",
       "      <th>content</th>\n",
       "    </tr>\n",
       "  </thead>\n",
       "  <tbody>\n",
       "    <tr>\n",
       "      <th>0</th>\n",
       "      <td>17</td>\n",
       "      <td>17</td>\n",
       "      <td>26825482</td>\n",
       "      <td>✔</td>\n",
       "      <td>1.0</td>\n",
       "      <td>2022-03-30 22:50:10</td>\n",
       "      <td>不意外过气灾难片路数大概是全人类得新冠之后大脑缩小了一圈</td>\n",
       "    </tr>\n",
       "    <tr>\n",
       "      <th>1</th>\n",
       "      <td>0</td>\n",
       "      <td>0</td>\n",
       "      <td>26825482</td>\n",
       "      <td>莫挨脑子</td>\n",
       "      <td>1.0</td>\n",
       "      <td>2022-03-25 20:24:25</td>\n",
       "      <td>看到影片开头华谊兄弟几个字的时候我就心里有数了果然</td>\n",
       "    </tr>\n",
       "    <tr>\n",
       "      <th>2</th>\n",
       "      <td>9</td>\n",
       "      <td>9</td>\n",
       "      <td>26825482</td>\n",
       "      <td>亵渎电影</td>\n",
       "      <td>1.0</td>\n",
       "      <td>2022-03-30 17:04:17</td>\n",
       "      <td>编剧写这种东西本意是在写一个粗制滥造的网大吧不仅时时刻刻在侮辱观众的智商还侮辱了外星智慧生命...</td>\n",
       "    </tr>\n",
       "    <tr>\n",
       "      <th>3</th>\n",
       "      <td>4</td>\n",
       "      <td>4</td>\n",
       "      <td>26825482</td>\n",
       "      <td>人民南路壹号</td>\n",
       "      <td>2.0</td>\n",
       "      <td>2022-02-13 12:22:24</td>\n",
       "      <td>加上最后一段的灾难特效算它勉强及格吧在导演本人的作品里应当排在倒数的很多逻辑漏洞和一言难尽的...</td>\n",
       "    </tr>\n",
       "  </tbody>\n",
       "</table>\n",
       "</div>"
      ],
      "text/plain": [
       "   level_0  index  movie_id user_id  rate                 time  \\\n",
       "0       17     17  26825482       ✔   1.0  2022-03-30 22:50:10   \n",
       "1        0      0  26825482    莫挨脑子   1.0  2022-03-25 20:24:25   \n",
       "2        9      9  26825482    亵渎电影   1.0  2022-03-30 17:04:17   \n",
       "3        4      4  26825482  人民南路壹号   2.0  2022-02-13 12:22:24   \n",
       "\n",
       "                                             content  \n",
       "0                       不意外过气灾难片路数大概是全人类得新冠之后大脑缩小了一圈  \n",
       "1                          看到影片开头华谊兄弟几个字的时候我就心里有数了果然  \n",
       "2  编剧写这种东西本意是在写一个粗制滥造的网大吧不仅时时刻刻在侮辱观众的智商还侮辱了外星智慧生命...  \n",
       "3  加上最后一段的灾难特效算它勉强及格吧在导演本人的作品里应当排在倒数的很多逻辑漏洞和一言难尽的...  "
      ]
     },
     "execution_count": 95,
     "metadata": {},
     "output_type": "execute_result"
    }
   ],
   "source": [
    "dataset_val"
   ]
  },
  {
   "cell_type": "markdown",
   "metadata": {},
   "source": [
    "## 分词\n",
    "* 到此数据清洗就结束了，接下来我们要将句子进行分词，以便生成对应的词向量\n",
    "* 首先我们要将训练集和验证集的所有句子全部合起来进行分词，下面是合并的过程"
   ]
  },
  {
   "cell_type": "code",
   "execution_count": 7,
   "metadata": {},
   "outputs": [],
   "source": [
    "train_content=dataset_train['content']#把所有句子合并在一起方便分词，句与句之间留有空格\n",
    "train_content=list(train_content)\n",
    "str=' '\n",
    "traincontent=str.join(train_content)\n",
    "val_content=dataset_val['content']\n",
    "val_content=list(val_content)\n",
    "str=' '\n",
    "valcontent=str.join(val_content)"
   ]
  },
  {
   "cell_type": "markdown",
   "metadata": {},
   "source": [
    "* 注意句子之间要留一个空格以便分词器分词"
   ]
  },
  {
   "cell_type": "code",
   "execution_count": 8,
   "metadata": {},
   "outputs": [],
   "source": [
    "content=traincontent+' '+valcontent#把训练集和测试集合二为一"
   ]
  },
  {
   "cell_type": "markdown",
   "metadata": {},
   "source": [
    "* 下面展示合并结果 ，是一个长字符串"
   ]
  },
  {
   "cell_type": "code",
   "execution_count": 98,
   "metadata": {},
   "outputs": [
    {
     "data": {
      "text/plain": [
       "'看到影片开头华谊兄弟几个字的时候我就心里有数了果然 加上最后一段的灾难特效算它勉强及格吧在导演本人的作品里应当排在倒数的很多逻辑漏洞和一言难尽的地方大概经费都燃烧在了最后分钟没办法再照顾剧情和其他还有一个一看就是被金主华谊塞进去的于文文剧情不需要但是估计经费需要 时间过得真快不敢相信看罗兰艾默里奇上一部已经是两年前的事情了这次罗兰艾默里奇算是三年磨一剑回归灾难片但是全片看下来就觉得很乱没想到年还能看到年时期的同类题材创意不新鲜特效也就一般亿千万美元的预算制作出了亿的效果而且华谊还投资了还有个华谊旗下的中国女演员带资进组戏份还挺多整个就一个无语这片总结就一句话肥宅拯救宇宙 大概是主创团队致力于讲一个自嗨至极的阴谋论导致全片的特效竟然没有服务于剧情和刺激这对于一部灾难片来说就是一场切切实实的灾难相比起人家可是跟各种形式的灾难追逐到最后才不是偷懒地生造一只外星人搞异星灾变那套呢博物馆当然是永远的神啦 这才是在电影院的电影无视定律太过于牛逼减一颗 整个设定太蠢了能把高度文明灭了的在电影里蠢的像个蠢货不管形式和内核都停留在非常陈旧的体系里没有新意 罗兰的正常水平发挥吧拍了那么多年灾难片了题材在改变但是套路却基本一致这部倒算是大咖云集如果想去电影院看看牛的技术可以一看 一定要看一定要看一定要看画面和特效远超预期他的最后视觉大高潮我整个喊了有十遍卧槽吧期待更多的科学学说和未被证实的理论搬上银幕最后骂的人奥斯卡颁奖了马上在家看看资源不好吗 不意外过气灾难片路数大概是全人类得新冠之后大脑缩小了一圈 什么鬼烂的一塌糊涂 编剧写这种东西本意是在写一个粗制滥造的网大吧不仅时时刻刻在侮辱观众的智商还侮辱了外星智慧生命看完这部电影你就知道什么叫物理是体育老师教的了 无趣灾难扯出天际超越科幻范畴的奇幻剧本空壳式角色设定充满着各种临时起意和罔顾逻辑 儘管降低了心理預期但是還是沒料到這災難片能拍成史詩級災難能感覺導演應當有致敬駭客帝國的意思除了紅藍小藥丸的梗反覆出現還有最終人類與的戰爭黑幕導演功底還是在幾個月球隕落的大場面都好看極了雙線剪輯都很乾脆沒有問題但這劇本認真的嗎完全就是不顧邏輯的明天之後駭客帝國星際效應的一通大雜燴生搬硬套了災難片的皮和科幻片的核然後自以為是地煽煽情前半段我還抱著也許是個正常怪獸片展開的希望後半段直接在影院裡頭痛大過年的何苦 这边是合家欢唯独男主前妻的现任老公和女主的前夫牺牲这就有点无语了其他的跟咱们流浪地球没啥区别偶然发现参演不然这个题材分数直接就劝退了 难看的一批 这不还行吗剧情不算特别无脑场面确实非常惊艳就足够了 脑洞大开硬塞中国元素是很过分了当然还是适合银幕看看的无脑爽片 建议内宣赶紧收编艾默里奇筹拍德特里克堡大电影分形粒子特效用来做疫苗内的纳米机器人简直完美 文戏烂到爆'"
      ]
     },
     "execution_count": 98,
     "metadata": {},
     "output_type": "execute_result"
    }
   ],
   "source": [
    "content"
   ]
  },
  {
   "cell_type": "markdown",
   "metadata": {},
   "source": [
    "* 接下来调用jieba工具进行分词，并将词按频数进行排序展示"
   ]
  },
  {
   "cell_type": "code",
   "execution_count": 121,
   "metadata": {},
   "outputs": [],
   "source": [
    "words = jieba.lcut(content)     # 使用精确模式对文本进行分词\n",
    "counts = {}     # 通过键值对的形式存储词语及其出现的次数\n",
    "for word in words:\n",
    "    counts[word] = counts.get(word, 0) + 1    # 遍历所有词语，每出现一次其对应的值加 1\n",
    "items = list(counts.items())\n",
    "items.sort(key=lambda x: x[1], reverse=True)    # 根据词语出现的次数进行从大到小排序"
   ]
  },
  {
   "cell_type": "markdown",
   "metadata": {},
   "source": [
    "* 下面展示分词结果，右边是该词对应的出现频率"
   ]
  },
  {
   "cell_type": "code",
   "execution_count": 122,
   "metadata": {},
   "outputs": [
    {
     "data": {
      "text/plain": [
       "[('的', 47),\n",
       " ('了', 20),\n",
       " (' ', 18),\n",
       " ('在', 11),\n",
       " ('是', 10),\n",
       " ('就', 9),\n",
       " ('和', 9),\n",
       " ('看', 6),\n",
       " ('最后', 5),\n",
       " ('特效', 5),\n",
       " ('华谊', 4),\n",
       " ('灾难', 4),\n",
       " ('吧', 4),\n",
       " ('都', 4),\n",
       " ('剧情', 4),\n",
       " ('一个', 4),\n",
       " ('不', 4),\n",
       " ('但是', 4),\n",
       " ('灾难片', 4),\n",
       " ('还', 4),\n",
       " ('电影', 4),\n",
       " ('我', 3),\n",
       " ('里', 3),\n",
       " ('大概', 3),\n",
       " ('就是', 3),\n",
       " ('罗兰', 3),\n",
       " ('艾默里', 3),\n",
       " ('很', 3),\n",
       " ('年', 3),\n",
       " ('能', 3),\n",
       " ('整个', 3),\n",
       " ('这', 3),\n",
       " ('大', 3),\n",
       " ('看看', 3),\n",
       " ('一定', 3),\n",
       " ('要', 3),\n",
       " ('看到', 2),\n",
       " ('逻辑', 2),\n",
       " ('经费', 2),\n",
       " ('没', 2),\n",
       " ('其他', 2),\n",
       " ('还有', 2),\n",
       " ('一看', 2),\n",
       " ('被', 2),\n",
       " ('于', 2),\n",
       " ('需要', 2),\n",
       " ('一部', 2),\n",
       " ('奇', 2),\n",
       " ('算是', 2),\n",
       " ('全片', 2),\n",
       " ('也', 2),\n",
       " ('亿', 2),\n",
       " ('出', 2),\n",
       " ('个', 2),\n",
       " ('中国', 2),\n",
       " ('多', 2),\n",
       " ('无语', 2),\n",
       " ('没有', 2),\n",
       " ('跟', 2),\n",
       " ('各种', 2),\n",
       " ('形式', 2),\n",
       " ('到', 2),\n",
       " ('地', 2),\n",
       " ('当然', 2),\n",
       " ('电影院', 2),\n",
       " ('设定', 2),\n",
       " ('非常', 2),\n",
       " ('正常', 2),\n",
       " ('拍', 2),\n",
       " ('题材', 2),\n",
       " ('这部', 2),\n",
       " ('吗', 2),\n",
       " ('什么', 2),\n",
       " ('写', 2),\n",
       " ('侮辱', 2),\n",
       " ('還是', 2),\n",
       " ('後', 2),\n",
       " ('直接', 2),\n",
       " ('无脑', 2),\n",
       " ('影片', 1),\n",
       " ('开头', 1),\n",
       " ('兄弟', 1),\n",
       " ('几个', 1),\n",
       " ('字', 1),\n",
       " ('时候', 1),\n",
       " ('心里有数', 1),\n",
       " ('果然', 1),\n",
       " ('加上', 1),\n",
       " ('一段', 1),\n",
       " ('算', 1),\n",
       " ('它', 1),\n",
       " ('勉强', 1),\n",
       " ('及格', 1),\n",
       " ('导演', 1),\n",
       " ('本人', 1),\n",
       " ('作品', 1),\n",
       " ('应当', 1),\n",
       " ('排', 1),\n",
       " ('倒数', 1),\n",
       " ('很多', 1),\n",
       " ('漏洞', 1),\n",
       " ('一言难尽', 1),\n",
       " ('地方', 1),\n",
       " ('燃烧', 1),\n",
       " ('分钟', 1),\n",
       " ('办法', 1),\n",
       " ('再', 1),\n",
       " ('照顾', 1),\n",
       " ('金主', 1),\n",
       " ('塞进去', 1),\n",
       " ('文文', 1),\n",
       " ('估计', 1),\n",
       " ('时间', 1),\n",
       " ('过得', 1),\n",
       " ('真快', 1),\n",
       " ('不敢相信', 1),\n",
       " ('奇上', 1),\n",
       " ('已经', 1),\n",
       " ('两年', 1),\n",
       " ('前', 1),\n",
       " ('事情', 1),\n",
       " ('这次', 1),\n",
       " ('三年', 1),\n",
       " ('磨一剑', 1),\n",
       " ('回归', 1),\n",
       " ('下来', 1),\n",
       " ('觉得', 1),\n",
       " ('乱', 1),\n",
       " ('没想到', 1),\n",
       " ('时期', 1),\n",
       " ('同类题材', 1),\n",
       " ('创意', 1),\n",
       " ('新鲜', 1),\n",
       " ('一般', 1),\n",
       " ('千万美元', 1),\n",
       " ('预算', 1),\n",
       " ('制作', 1),\n",
       " ('效果', 1),\n",
       " ('而且', 1),\n",
       " ('投资', 1),\n",
       " ('旗下', 1),\n",
       " ('女演员', 1),\n",
       " ('带资', 1),\n",
       " ('进组', 1),\n",
       " ('戏份', 1),\n",
       " ('挺', 1),\n",
       " ('这片', 1),\n",
       " ('总结', 1),\n",
       " ('一句', 1),\n",
       " ('话', 1),\n",
       " ('肥宅', 1),\n",
       " ('拯救', 1),\n",
       " ('宇宙', 1),\n",
       " ('主创', 1),\n",
       " ('团队', 1),\n",
       " ('致力于', 1),\n",
       " ('讲', 1),\n",
       " ('自', 1),\n",
       " ('嗨', 1),\n",
       " ('至极', 1),\n",
       " ('阴谋论', 1),\n",
       " ('导致', 1),\n",
       " ('竟然', 1),\n",
       " ('服务', 1),\n",
       " ('刺激', 1),\n",
       " ('对于', 1),\n",
       " ('来说', 1),\n",
       " ('一场', 1),\n",
       " ('切切实实', 1),\n",
       " ('相比', 1),\n",
       " ('起', 1),\n",
       " ('人家', 1),\n",
       " ('可是', 1),\n",
       " ('追逐', 1),\n",
       " ('才', 1),\n",
       " ('不是', 1),\n",
       " ('偷懒', 1),\n",
       " ('生造', 1),\n",
       " ('一只', 1),\n",
       " ('外星人', 1),\n",
       " ('搞', 1),\n",
       " ('异星', 1),\n",
       " ('灾变', 1),\n",
       " ('那套', 1),\n",
       " ('呢', 1),\n",
       " ('博物馆', 1),\n",
       " ('永远', 1),\n",
       " ('神', 1),\n",
       " ('啦', 1),\n",
       " ('这才', 1),\n",
       " ('无视', 1),\n",
       " ('定律', 1),\n",
       " ('太', 1),\n",
       " ('过于', 1),\n",
       " ('牛逼减', 1),\n",
       " ('一颗', 1),\n",
       " ('太蠢', 1),\n",
       " ('把', 1),\n",
       " ('高度文明', 1),\n",
       " ('灭', 1),\n",
       " ('蠢', 1),\n",
       " ('像', 1),\n",
       " ('蠢货', 1),\n",
       " ('不管', 1),\n",
       " ('内核', 1),\n",
       " ('停留', 1),\n",
       " ('陈旧', 1),\n",
       " ('体系', 1),\n",
       " ('新意', 1),\n",
       " ('水平', 1),\n",
       " ('发挥', 1),\n",
       " ('那么', 1),\n",
       " ('多年', 1),\n",
       " ('改变', 1),\n",
       " ('套路', 1),\n",
       " ('却', 1),\n",
       " ('基本一致', 1),\n",
       " ('倒', 1),\n",
       " ('咖', 1),\n",
       " ('云集', 1),\n",
       " ('如果', 1),\n",
       " ('想', 1),\n",
       " ('去', 1),\n",
       " ('牛', 1),\n",
       " ('技术', 1),\n",
       " ('可以', 1),\n",
       " ('画面', 1),\n",
       " ('远超', 1),\n",
       " ('预期', 1),\n",
       " ('他', 1),\n",
       " ('视觉', 1),\n",
       " ('高潮', 1),\n",
       " ('喊', 1),\n",
       " ('有', 1),\n",
       " ('十遍', 1),\n",
       " ('卧槽', 1),\n",
       " ('期待', 1),\n",
       " ('更', 1),\n",
       " ('科学', 1),\n",
       " ('学说', 1),\n",
       " ('未', 1),\n",
       " ('证实', 1),\n",
       " ('理论', 1),\n",
       " ('搬', 1),\n",
       " ('上银幕', 1),\n",
       " ('骂', 1),\n",
       " ('人', 1),\n",
       " ('奥斯卡', 1),\n",
       " ('颁奖', 1),\n",
       " ('马上', 1),\n",
       " ('在家', 1),\n",
       " ('资源', 1),\n",
       " ('不好', 1),\n",
       " ('意外', 1),\n",
       " ('过', 1),\n",
       " ('气', 1),\n",
       " ('路数', 1),\n",
       " ('全人类', 1),\n",
       " ('得', 1),\n",
       " ('新冠', 1),\n",
       " ('之后', 1),\n",
       " ('大脑', 1),\n",
       " ('缩小', 1),\n",
       " ('一圈', 1),\n",
       " ('鬼烂', 1),\n",
       " ('一塌糊涂', 1),\n",
       " ('编剧', 1),\n",
       " ('这种', 1),\n",
       " ('东西', 1),\n",
       " ('本意', 1),\n",
       " ('粗制滥造', 1),\n",
       " ('网大', 1),\n",
       " ('不仅', 1),\n",
       " ('时时刻刻', 1),\n",
       " ('观众', 1),\n",
       " ('智商', 1),\n",
       " ('外星', 1),\n",
       " ('智慧', 1),\n",
       " ('生命', 1),\n",
       " ('完', 1),\n",
       " ('你', 1),\n",
       " ('知道', 1),\n",
       " ('叫', 1),\n",
       " ('物理', 1),\n",
       " ('体育老师', 1),\n",
       " ('教', 1),\n",
       " ('无趣', 1),\n",
       " ('扯', 1),\n",
       " ('天际', 1),\n",
       " ('超越', 1),\n",
       " ('科幻', 1),\n",
       " ('范畴', 1),\n",
       " ('奇幻', 1),\n",
       " ('剧本', 1),\n",
       " ('空壳', 1),\n",
       " ('式', 1),\n",
       " ('角色', 1),\n",
       " ('充满', 1),\n",
       " ('着', 1),\n",
       " ('临时', 1),\n",
       " ('起意', 1),\n",
       " ('罔顾', 1),\n",
       " ('儘', 1),\n",
       " ('管', 1),\n",
       " ('降低', 1),\n",
       " ('心理', 1),\n",
       " ('預期', 1),\n",
       " ('沒', 1),\n",
       " ('料到', 1),\n",
       " ('這災', 1),\n",
       " ('難片', 1),\n",
       " ('成史', 1),\n",
       " ('詩級', 1),\n",
       " ('災難', 1),\n",
       " ('能感', 1),\n",
       " ('覺導', 1),\n",
       " ('演應', 1),\n",
       " ('當有', 1),\n",
       " ('致敬', 1),\n",
       " ('駭客', 1),\n",
       " ('帝國', 1),\n",
       " ('意思', 1),\n",
       " ('除了', 1),\n",
       " ('紅藍小藥', 1),\n",
       " ('丸', 1),\n",
       " ('梗', 1),\n",
       " ('反覆', 1),\n",
       " ('出現', 1),\n",
       " ('還有', 1),\n",
       " ('最終', 1),\n",
       " ('人類', 1),\n",
       " ('與', 1),\n",
       " ('戰爭', 1),\n",
       " ('黑幕', 1),\n",
       " ('導演', 1),\n",
       " ('功底', 1),\n",
       " ('幾個', 1),\n",
       " ('月球', 1),\n",
       " ('隕落', 1),\n",
       " ('大場面', 1),\n",
       " ('好看', 1),\n",
       " ('極了', 1),\n",
       " ('雙線', 1),\n",
       " ('剪輯', 1),\n",
       " ('乾脆', 1),\n",
       " ('沒有', 1),\n",
       " ('問題', 1),\n",
       " ('但', 1),\n",
       " ('這劇', 1),\n",
       " ('本認', 1),\n",
       " ('真的', 1),\n",
       " ('嗎', 1),\n",
       " ('完全', 1),\n",
       " ('不顧', 1),\n",
       " ('邏輯', 1),\n",
       " ('明天', 1),\n",
       " ('之後駭', 1),\n",
       " ('客帝', 1),\n",
       " ('國星際', 1),\n",
       " ('效應', 1),\n",
       " ('一通', 1),\n",
       " ('大雜', 1),\n",
       " ('燴', 1),\n",
       " ('生搬硬套', 1),\n",
       " ('災難片', 1),\n",
       " ('皮', 1),\n",
       " ('科幻片', 1),\n",
       " ('核然', 1),\n",
       " ('自以', 1),\n",
       " ('為', 1),\n",
       " ('煽', 1),\n",
       " ('煽情', 1),\n",
       " ('前半段', 1),\n",
       " ('還抱', 1),\n",
       " ('著', 1),\n",
       " ('許是', 1),\n",
       " ('個', 1),\n",
       " ('怪獸', 1),\n",
       " ('片展', 1),\n",
       " ('開', 1),\n",
       " ('希望', 1),\n",
       " ('半段', 1),\n",
       " ('影院', 1),\n",
       " ('裡頭', 1),\n",
       " ('痛大過', 1),\n",
       " ('何苦', 1),\n",
       " ('这边', 1),\n",
       " ('合家欢', 1),\n",
       " ('唯独', 1),\n",
       " ('男主', 1),\n",
       " ('前妻', 1),\n",
       " ('现任', 1),\n",
       " ('老公', 1),\n",
       " ('女主', 1),\n",
       " ('前夫', 1),\n",
       " ('牺牲', 1),\n",
       " ('有点', 1),\n",
       " ('咱们', 1),\n",
       " ('流浪', 1),\n",
       " ('地球', 1),\n",
       " ('啥', 1),\n",
       " ('区别', 1),\n",
       " ('偶然', 1),\n",
       " ('发现', 1),\n",
       " ('参演', 1),\n",
       " ('不然', 1),\n",
       " ('这个', 1),\n",
       " ('分数', 1),\n",
       " ('劝退', 1),\n",
       " ('难看', 1),\n",
       " ('一批', 1),\n",
       " ('还行', 1),\n",
       " ('不算', 1),\n",
       " ('特别', 1),\n",
       " ('场面', 1),\n",
       " ('确实', 1),\n",
       " ('惊艳', 1),\n",
       " ('足够', 1),\n",
       " ('脑洞', 1),\n",
       " ('大开', 1),\n",
       " ('硬塞', 1),\n",
       " ('元素', 1),\n",
       " ('过分', 1),\n",
       " ('还是', 1),\n",
       " ('适合', 1),\n",
       " ('银幕', 1),\n",
       " ('爽片', 1),\n",
       " ('建议', 1),\n",
       " ('内宣', 1),\n",
       " ('赶紧', 1),\n",
       " ('收编', 1),\n",
       " ('筹拍', 1),\n",
       " ('德', 1),\n",
       " ('特里', 1),\n",
       " ('克堡', 1),\n",
       " ('分形', 1),\n",
       " ('粒子', 1),\n",
       " ('用来', 1),\n",
       " ('做', 1),\n",
       " ('疫苗', 1),\n",
       " ('内', 1),\n",
       " ('纳米', 1),\n",
       " ('机器人', 1),\n",
       " ('简直', 1),\n",
       " ('完美', 1),\n",
       " ('文戏', 1),\n",
       " ('烂', 1),\n",
       " ('爆', 1)]"
      ]
     },
     "execution_count": 122,
     "metadata": {},
     "output_type": "execute_result"
    }
   ],
   "source": [
    "items"
   ]
  },
  {
   "cell_type": "code",
   "execution_count": 133,
   "metadata": {},
   "outputs": [],
   "source": [
    "train=[]\n",
    "for i in range(len(words)):\n",
    "    train.append(list(words[i]))\n"
   ]
  },
  {
   "cell_type": "markdown",
   "metadata": {},
   "source": [
    "## 训练词向量\n",
    "* 接下来我们要进行特征工程，即词向量的确定\n",
    "* 首先我们先将所有词放入一个二维列表里，便于训练"
   ]
  },
  {
   "cell_type": "code",
   "execution_count": 148,
   "metadata": {},
   "outputs": [],
   "source": [
    "train=[]\n",
    "for i in range(len(words)):\n",
    "    mid=[]\n",
    "    mid.append(words[i])\n",
    "    train.append(mid)"
   ]
  },
  {
   "cell_type": "markdown",
   "metadata": {},
   "source": [
    "* 我们要建立word2vec模型来训练词向量，这是一种将单词原先所属的空间映射到新的低维空间的模型，并能使得语义相似的单词在该空间距离相近\n",
    "* 我们要利用一个工具箱叫做gensim，里面继承了Word2vec方法来创建模型进行训练\n",
    "* Word2Vec这个函数中，word是我们给出的词汇表，sg=1代表采用Skip-Gram模型，它对低频词敏感，min_count是模型忽略的最大词长度，我们设为零即不忽略任何一个词，workers是训练的线程数，batch_words是每次训练的词汇数目"
   ]
  },
  {
   "cell_type": "code",
   "execution_count": 153,
   "metadata": {},
   "outputs": [],
   "source": [
    "path = get_tmpfile(\"word2vec.model\") #创建临时模型文件\n",
    "model = Word2Vec(train,sg=1,min_count=0,workers=4,batch_words=100)#训练词向量模型\n",
    "model.save(\"word2vec.model\")#保存模型\n",
    "#加载模型\n",
    "model = Word2Vec.load(\"word2vec.model\")"
   ]
  },
  {
   "cell_type": "markdown",
   "metadata": {},
   "source": [
    "* 训练结束后我们就可以利用模型来给出每一个词的词向量了，下面是演示"
   ]
  },
  {
   "cell_type": "code",
   "execution_count": 154,
   "metadata": {},
   "outputs": [
    {
     "data": {
      "text/plain": [
       "array([-9.5785474e-03,  8.9431144e-03,  4.1650678e-03,  9.2347339e-03,\n",
       "        6.6435025e-03,  2.9247357e-03,  9.8040197e-03, -4.4246409e-03,\n",
       "       -6.8033123e-03,  4.2273807e-03,  3.7290000e-03, -5.6646108e-03,\n",
       "        9.7047593e-03, -3.5583067e-03,  9.5494054e-03,  8.3472492e-04,\n",
       "       -6.3384580e-03, -1.9771170e-03, -7.3770545e-03, -2.9795242e-03,\n",
       "        1.0416961e-03,  9.4826864e-03,  9.3558477e-03, -6.5958784e-03,\n",
       "        3.4751510e-03,  2.2755694e-03, -2.4893521e-03, -9.2291739e-03,\n",
       "        1.0271263e-03, -8.1657078e-03,  6.3201878e-03, -5.8000805e-03,\n",
       "        5.5354382e-03,  9.8337224e-03, -1.6000033e-04,  4.5284913e-03,\n",
       "       -1.8094016e-03,  7.3607611e-03,  3.9400961e-03, -9.0103243e-03,\n",
       "       -2.3985051e-03,  3.6287690e-03, -9.9568366e-05, -1.2012720e-03,\n",
       "       -1.0554385e-03, -1.6716027e-03,  6.0495140e-04,  4.1650939e-03,\n",
       "       -4.2527914e-03, -3.8336229e-03, -5.2816868e-05,  2.6935578e-04,\n",
       "       -1.6880751e-04, -4.7855065e-03,  4.3134023e-03, -2.1719194e-03,\n",
       "        2.1035385e-03,  6.6652300e-04,  5.9696771e-03, -6.8423818e-03,\n",
       "       -6.8157101e-03, -4.4762585e-03,  9.4358278e-03, -1.5918827e-03,\n",
       "       -9.4292425e-03, -5.4504158e-04, -4.4489242e-03,  6.0000778e-03,\n",
       "       -9.5836855e-03,  2.8590010e-03, -9.2528323e-03,  1.2497997e-03,\n",
       "        5.9991982e-03,  7.3973467e-03, -7.6214648e-03, -6.0530235e-03,\n",
       "       -6.8384409e-03, -7.9183411e-03, -9.4990805e-03, -2.1254970e-03,\n",
       "       -8.3593366e-04, -7.2562029e-03,  6.7870356e-03,  1.1196184e-03,\n",
       "        5.8288667e-03,  1.4728665e-03,  7.8936579e-04, -7.3681306e-03,\n",
       "       -2.1766592e-03,  4.3210792e-03, -5.0853156e-03,  1.1307884e-03,\n",
       "        2.8833628e-03, -1.5363622e-03,  9.9322936e-03,  8.3496328e-03,\n",
       "        2.4156666e-03,  7.1182442e-03,  5.8914376e-03, -5.5806185e-03],\n",
       "      dtype=float32)"
      ]
     },
     "execution_count": 154,
     "metadata": {},
     "output_type": "execute_result"
    }
   ],
   "source": [
    "#获取每个词的词向量\n",
    "model.wv['最后']"
   ]
  },
  {
   "cell_type": "markdown",
   "metadata": {},
   "source": [
    "## 词向量句建立\n",
    "* 在制作好词向量模型后，我们要将所有训练语料转化为词向量构成的句子，以便喂入神经网络进行训练\n",
    "* 首先我们需要建立一个字典来对应每个词和词向量，以便查询"
   ]
  },
  {
   "cell_type": "code",
   "execution_count": 151,
   "metadata": {},
   "outputs": [],
   "source": [
    "word_tensor={}#建立词向量查询字典，便于检索词向量\n",
    "for i in range(len(items)):\n",
    "    word_tensor[items[i][0]]=model.wv[items[i][0]]"
   ]
  },
  {
   "cell_type": "markdown",
   "metadata": {},
   "source": [
    "## 训练数据准备\n",
    "* 建立好词向量字典后，我们就要着手准备训练数据了,即将词向量组合成句子\n",
    "* 首先我们定义空列表存放训练和验证数据"
   ]
  },
  {
   "cell_type": "code",
   "execution_count": 15,
   "metadata": {},
   "outputs": [],
   "source": [
    "train_data=[]\n",
    "val_data=[]#定义空列表用于存放词向量句子"
   ]
  },
  {
   "cell_type": "markdown",
   "metadata": {},
   "source": [
    "* 接下来我们要将词向量挨个查找出来并加入list中，其中list是一个二维n行2列的列表，每一行都存放着词向量句和标签，即对应的电影评分[comment,grade]"
   ]
  },
  {
   "cell_type": "code",
   "execution_count": 16,
   "metadata": {},
   "outputs": [],
   "source": [
    "for i in range(len(train_content)):#处理数据，把词向量构成的句子和标签一起封装进list里面，便于调用\n",
    "    words = jieba.lcut(train_content[i])\n",
    "    a=torch.zeros(len(words),1,100)\n",
    "    for j in range(len(words)):\n",
    "        a[j,0,:]=torch.tensor(model.wv[words[j]],dtype=torch.float32)\n",
    "    b=[]\n",
    "    b.append(a)#合并标签和词向量句\n",
    "    b.append(torch.tensor(dataset_train['rate'][i],dtype=torch.float32))#将数据转化为float32的tensor，便于神经网络运算\n",
    "    train_data.append(b)#把整合好的列表添加到训练数据集中，构成二维列表\n",
    "for i in range(len(val_content)):\n",
    "    words = jieba.lcut(val_content[i])\n",
    "    a=torch.zeros(len(words),1,100)\n",
    "    for j in range(len(words)):\n",
    "        a[j,0,:]=torch.tensor(model.wv[words[j]],dtype=torch.float32)\n",
    "    b=[]\n",
    "    b.append(a)\n",
    "    b.append(torch.tensor(dataset_val['rate'][i],dtype=torch.float32))\n",
    "    val_data.append(b)"
   ]
  },
  {
   "cell_type": "markdown",
   "metadata": {},
   "source": [
    "## 训练神经网络模型\n",
    "* 首先我们需要建立一个模型类，这个类继承自nn.Module\n",
    "* 这是一个循环加自注意力神经网络，采用了编码-解码结构中的一半即一个GRU构成的编码器，后接一个自注意力层，最后用全连接层提取特征进行输出"
   ]
  },
  {
   "cell_type": "code",
   "execution_count": 156,
   "metadata": {},
   "outputs": [],
   "source": [
    "class GRU(nn.Module):#神经网络模型\n",
    "    def __init__(self,inputsize,hiddensize):\n",
    "        super(GRU,self).__init__()\n",
    "        self.hidden_size = hiddensize\n",
    "        self.GRUCell = nn.GRUCell(input_size=inputsize,hidden_size=hiddensize,bias=True)#GRU细胞\n",
    "        self.l1 = nn.Sequential(   #用于GRU和自注意力之间的全连接层\n",
    "            nn.BatchNorm1d(1),\n",
    "            nn.Linear(hiddensize,300),\n",
    "            nn.LeakyReLU()\n",
    "        )\n",
    "        self.query = nn.Linear(300, 400)#自注意力层\n",
    "        self.key = nn.Linear(300, 400)\n",
    "        self.value = nn.Linear(300, 400)\n",
    "        self.l2 = nn.Sequential(#最后用于输出的全连接层\n",
    "            nn.BatchNorm1d(1),\n",
    "            nn.Linear(400,100),\n",
    "            nn.LeakyReLU(),\n",
    "            nn.BatchNorm1d(1),\n",
    "            nn.Linear(100,25),\n",
    "            nn.Tanh(),\n",
    "            nn.BatchNorm1d(1),\n",
    "            nn.Linear(25,1)\n",
    "        )\n",
    "    def forward(self,x):\n",
    "        l=x.shape[0]\n",
    "        hx = torch.zeros(1,self.hidden_size)\n",
    "        for i in range(l):\n",
    "            hx = self.GRUCell(x[i], hx)\n",
    "        out=hx.view(1,1,-1)\n",
    "        out=self.l1(out)\n",
    "        out=nn.Flatten()(out)\n",
    "        q=self.query(out)\n",
    "        k=self.key(out)\n",
    "        v=self.value(out)\n",
    "        A=torch.mm(q.T,k)/np.sqrt(400)#归一化防止维度灾难\n",
    "        A=nn.Softmax(dim=-1)(A)\n",
    "        O=torch.mm(v,A)\n",
    "        O=O.view(1,1,-1)\n",
    "        output=self.l2(O)\n",
    "        out=torch.float32\n",
    "        out=output[0,0,0]#将数据转化为单个值进行输出\n",
    "        return out"
   ]
  },
  {
   "cell_type": "markdown",
   "metadata": {},
   "source": [
    "* 建立模型，定义epochs训练次数，损失函数和优化器，并用列表保存损失\n",
    "* 损失函数选用均方差损失，优化器可选Adam和SGD"
   ]
  },
  {
   "cell_type": "code",
   "execution_count": 157,
   "metadata": {},
   "outputs": [],
   "source": [
    "#Model=torch.load('Model.pt')#读取已保存模型\n",
    "epochs=50\n",
    "Model=GRU(100,200)#模型\n",
    "criterion=nn.MSELoss()#损失\n",
    "#optimizer = optim.Adam(Model.parameters(), lr=0.001, betas=(0.9, 0.999), eps=1e-08, weight_decay=1, amsgrad=False)\n",
    "optimizer = optim.SGD(Model.parameters(), lr=0.0001, momentum=0.9)#优化器\n",
    "lossRecord = []#记录损失"
   ]
  },
  {
   "cell_type": "markdown",
   "metadata": {},
   "source": [
    "* 开始训练"
   ]
  },
  {
   "cell_type": "code",
   "execution_count": 40,
   "metadata": {},
   "outputs": [
    {
     "name": "stdout",
     "output_type": "stream",
     "text": [
      "Train Epoch:0 Loss: 2.640659\n",
      "Train Epoch:1 Loss: 0.033377\n",
      "Train Epoch:2 Loss: 3.617707\n",
      "Train Epoch:3 Loss: 0.953573\n",
      "Train Epoch:4 Loss: 0.006122\n",
      "Train Epoch:5 Loss: 1.246995\n",
      "Train Epoch:6 Loss: 0.663316\n",
      "Train Epoch:7 Loss: 1.033020\n",
      "Train Epoch:8 Loss: 1.167974\n",
      "Train Epoch:9 Loss: 0.981646\n",
      "Train Epoch:10 Loss: 4.221002\n",
      "Train Epoch:11 Loss: 0.026199\n",
      "Train Epoch:12 Loss: 4.280945\n",
      "Train Epoch:13 Loss: 1.010735\n",
      "Train Epoch:14 Loss: 0.024091\n",
      "Train Epoch:15 Loss: 0.943441\n",
      "Train Epoch:16 Loss: 0.882364\n",
      "Train Epoch:17 Loss: 1.264387\n",
      "Train Epoch:18 Loss: 1.024548\n",
      "Train Epoch:19 Loss: 0.992095\n",
      "Train Epoch:20 Loss: 0.728238\n",
      "Train Epoch:21 Loss: 0.000027\n",
      "Train Epoch:22 Loss: 1.126966\n",
      "Train Epoch:23 Loss: 1.411936\n",
      "Train Epoch:24 Loss: 0.959556\n",
      "Train Epoch:25 Loss: 0.008575\n",
      "Train Epoch:26 Loss: 1.011024\n",
      "Train Epoch:27 Loss: 0.947378\n",
      "Train Epoch:28 Loss: 0.876508\n",
      "Train Epoch:29 Loss: 0.832464\n",
      "Train Epoch:30 Loss: 0.883762\n",
      "Train Epoch:31 Loss: 0.849087\n",
      "Train Epoch:32 Loss: 1.417867\n",
      "Train Epoch:33 Loss: 1.112245\n",
      "Train Epoch:34 Loss: 0.889068\n",
      "Train Epoch:35 Loss: 0.890619\n",
      "Train Epoch:36 Loss: 0.691138\n",
      "Train Epoch:37 Loss: 0.852057\n",
      "Train Epoch:38 Loss: 1.132006\n",
      "Train Epoch:39 Loss: 0.966686\n",
      "Train Epoch:40 Loss: 1.123255\n",
      "Train Epoch:41 Loss: 0.704005\n",
      "Train Epoch:42 Loss: 0.889369\n",
      "Train Epoch:43 Loss: 1.220961\n",
      "Train Epoch:44 Loss: 0.835592\n",
      "Train Epoch:45 Loss: 0.949441\n",
      "Train Epoch:46 Loss: 1.637759\n",
      "Train Epoch:47 Loss: 0.776254\n",
      "Train Epoch:48 Loss: 0.000119\n",
      "Train Epoch:49 Loss: 1.067470\n"
     ]
    }
   ],
   "source": [
    "Model.train()#训练模式\n",
    "for epoch in range(epochs):\n",
    "    random.shuffle(train_data)#打乱样本\n",
    "    for i in range(len(train_data)):\n",
    "        out=Model(train_data[i][0])\n",
    "        loss=criterion(out,train_data[i][1])\n",
    "        lossRecord.append(loss.detach().numpy())#记录损失\n",
    "        optimizer.zero_grad()#清除梯度\n",
    "        # 调用后向传播算法，利用优化器进行更新\n",
    "        loss.backward()#反向传播\n",
    "        optimizer.step()#更新参数\n",
    "        if i%50 == 0:\n",
    "            print('Train Epoch:{} Loss: {:.6f}'.format(epoch, loss.item()))"
   ]
  },
  {
   "cell_type": "markdown",
   "metadata": {},
   "source": [
    "* 训练结束后，打印损失变化曲线"
   ]
  },
  {
   "cell_type": "code",
   "execution_count": 41,
   "metadata": {},
   "outputs": [
    {
     "data": {
      "image/png": "[encoded data removed]",
      "text/plain": [
       "<Figure size 600x400 with 1 Axes>"
      ]
     },
     "metadata": {
      "needs_background": "light"
     },
     "output_type": "display_data"
    }
   ],
   "source": [
    "figure = plt.figure(figsize = (6,4), dpi=100)#绘制损失变化\n",
    "plt.plot(np.arange(len(lossRecord)),lossRecord)\n",
    "plt.xlabel('Epochs')\n",
    "plt.ylabel('Loss value')\n",
    "plt.title('loss curve')\n",
    "plt.grid(alpha=0.6)\n",
    "plt.show()"
   ]
  },
  {
   "cell_type": "markdown",
   "metadata": {},
   "source": [
    "## 测试模型\n",
    "* 我们将验证集的数据输入模型进行验证"
   ]
  },
  {
   "cell_type": "code",
   "execution_count": 42,
   "metadata": {},
   "outputs": [
    {
     "name": "stdout",
     "output_type": "stream",
     "text": [
      "predict: tensor(1.6599, grad_fn=<SelectBackward>) real: tensor(4.)\n",
      "predict: tensor(0.8660, grad_fn=<SelectBackward>) real: tensor(3.)\n",
      "predict: tensor(0.1858, grad_fn=<SelectBackward>) real: tensor(2.)\n",
      "predict: tensor(1.0183, grad_fn=<SelectBackward>) real: tensor(2.)\n"
     ]
    }
   ],
   "source": [
    "Model.eval()#测试模型\n",
    "for i in range(len(val_data)):\n",
    "    out=Model(val_data[i][0])\n",
    "    print('predict:',out,'real:',val_data[i][1])"
   ]
  },
  {
   "cell_type": "markdown",
   "metadata": {},
   "source": [
    "## 保存模型\n",
    "* 将模型保存在目录下"
   ]
  },
  {
   "cell_type": "code",
   "execution_count": 43,
   "metadata": {},
   "outputs": [],
   "source": [
    "torch.save(Model,'Model.pt')# 保存模型"
   ]
  }
 ],
 "metadata": {
  "kernelspec": {
   "display_name": "Python 3",
   "language": "python",
   "name": "python3"
  },
  "language_info": {
   "codemirror_mode": {
    "name": "ipython",
    "version": 3
   },
   "file_extension": ".py",
   "mimetype": "text/x-python",
   "name": "python",
   "nbconvert_exporter": "python",
   "pygments_lexer": "ipython3",
   "version": "3.8.8"
  }
 },
 "nbformat": 4,
 "nbformat_minor": 2
}
